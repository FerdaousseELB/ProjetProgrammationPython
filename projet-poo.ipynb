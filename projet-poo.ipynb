{
 "cells": [
  {
   "cell_type": "code",
   "execution_count": 1,
   "id": "16b68d5d",
   "metadata": {},
   "outputs": [
    {
     "data": {
      "application/vnd.jupyter.widget-view+json": {
       "model_id": "c6cbace6954e4b7e83747374255ca19f",
       "version_major": 2,
       "version_minor": 0
      },
      "text/plain": [
       "Text(value='corona', description='Subreddit:')"
      ]
     },
     "metadata": {},
     "output_type": "display_data"
    },
    {
     "data": {
      "application/vnd.jupyter.widget-view+json": {
       "model_id": "4b3aebb487d44a168e8ffd133f8351a9",
       "version_major": 2,
       "version_minor": 0
      },
      "text/plain": [
       "IntSlider(value=100, description='Reddit Limit:', max=500, min=1)"
      ]
     },
     "metadata": {},
     "output_type": "display_data"
    },
    {
     "data": {
      "application/vnd.jupyter.widget-view+json": {
       "model_id": "f218aebe05cb4f8f802011a2603e11cf",
       "version_major": 2,
       "version_minor": 0
      },
      "text/plain": [
       "Text(value='corona', description='ArXiv Query Terms:')"
      ]
     },
     "metadata": {},
     "output_type": "display_data"
    },
    {
     "data": {
      "application/vnd.jupyter.widget-view+json": {
       "model_id": "cb5e530468514e2f93d034f0c69db16b",
       "version_major": 2,
       "version_minor": 0
      },
      "text/plain": [
       "IntSlider(value=100, description='ArXiv Max Results:', max=500, min=1)"
      ]
     },
     "metadata": {},
     "output_type": "display_data"
    },
    {
     "data": {
      "application/vnd.jupyter.widget-view+json": {
       "model_id": "72ff965626904abf87f2762f26e7ba24",
       "version_major": 2,
       "version_minor": 0
      },
      "text/plain": [
       "Button(description='Collect and Display Data', style=ButtonStyle())"
      ]
     },
     "metadata": {},
     "output_type": "display_data"
    },
    {
     "name": "stderr",
     "output_type": "stream",
     "text": [
      "It appears that you are using PRAW in an asynchronous environment.\n",
      "It is strongly recommended to use Async PRAW: https://asyncpraw.readthedocs.io.\n",
      "See https://praw.readthedocs.io/en/latest/getting_started/multiple_instances.html#discord-bots-and-asynchronous-environments for more info.\n",
      "\n"
     ]
    },
    {
     "name": "stdout",
     "output_type": "stream",
     "text": [
      "le fichier corpus_data.csv est crée avec 62 auteurs et 66 documents.\n"
     ]
    }
   ],
   "source": [
    "import ipywidgets as widgets\n",
    "from IPython.display import display\n",
    "from DataCollector import DataCollector\n",
    "from Author import Author\n",
    "from Document import Document\n",
    "from RedditDocument import RedditDocument\n",
    "from ArxivDocument import ArxivDocument\n",
    "import datetime\n",
    "import pandas as pd\n",
    "\n",
    "\n",
    "def collect_data_and_display(subreddit, reddit_limit, arxiv_query_terms, arxiv_max_results):\n",
    "    # Créer une instance de DataCollector avec les paramètres fournis\n",
    "    collector = DataCollector(subreddit=subreddit_widget.value, limit=reddit_limit_widget.value,\n",
    "                          query_terms=arxiv_query_terms_widget.value.split(','), max_results=arxiv_max_results_widget.value)\n",
    "\n",
    "    # Collecter des données depuis Reddit\n",
    "    collector.collect_reddit_data()\n",
    "\n",
    "    # Collecter des données depuis ArXiv\n",
    "    #collector.collect_arxiv_data()\n",
    "       \n",
    "    collection = []\n",
    "    for nature, doc in collector.docs_bruts:\n",
    "        if nature == \"ArXiv\": \n",
    "            titre = doc[\"title\"].replace('\\n', '')  # On enlève les retours à la ligne\n",
    "            try:\n",
    "                authors = \", \".join([a[\"name\"] for a in doc[\"author\"]])  # On fait une liste d'auteurs, séparés par une virgule\n",
    "            except:\n",
    "                authors = doc[\"author\"][\"name\"]  # Si l'auteur est seul, pas besoin de liste\n",
    "            summary = doc[\"summary\"].replace(\"\\n\", \"\")  # On enlève les retours à la ligne\n",
    "            date = datetime.datetime.strptime(doc[\"published\"], \"%Y-%m-%dT%H:%M:%SZ\").strftime(\"%Y/%m/%d\")  # Formatage de la date en année/mois/jour avec librairie datetime\n",
    "\n",
    "            doc_classe = Document(titre, authors, date, doc[\"id\"], summary)  # Création du Document\n",
    "            collection.append(doc_classe)  # Ajout du Document à la liste.\n",
    "\n",
    "        elif nature == \"Reddit\":\n",
    "            titre = doc.title.replace(\"\\n\", '')\n",
    "            auteur = str(doc.author)\n",
    "            date = datetime.datetime.fromtimestamp(doc.created).strftime(\"%Y/%m/%d\")\n",
    "            url = str(doc.url)\n",
    "            texte = doc.selftext.replace(\"\\n\", \"\")\n",
    "            doc_classe = Document(titre, auteur, date, url, texte)\n",
    "            collection.append(doc_classe)\n",
    "    \n",
    "    authors = {}\n",
    "    aut2id = {}\n",
    "    num_auteurs_vus = 0\n",
    "    \n",
    "    for doc in collection:\n",
    "        if doc.auteur not in aut2id:\n",
    "            num_auteurs_vus += 1\n",
    "            authors[num_auteurs_vus] = Author(doc.auteur)\n",
    "            aut2id[doc.auteur] = num_auteurs_vus\n",
    "\n",
    "        authors[aut2id[doc.auteur]].add(doc.texte) \n",
    "    \n",
    "    corpus_data = {\n",
    "        'Titre': [],\n",
    "        'Auteur': [],\n",
    "        'Date': [],\n",
    "        'URL': [],\n",
    "        'Texte': []\n",
    "    }\n",
    "    \n",
    "    for doc in collection:\n",
    "        corpus_data['Titre'].append(doc.titre)\n",
    "        corpus_data['Auteur'].append(doc.auteur)\n",
    "        corpus_data['Date'].append(doc.date)\n",
    "        corpus_data['URL'].append(doc.url)\n",
    "        corpus_data['Texte'].append(doc.texte)\n",
    "        \n",
    "    corpus_df = pd.DataFrame(corpus_data)\n",
    "    corpus_df.to_csv('corpus_data.csv', sep='\\t', index=False)\n",
    "    \n",
    "    message = \"le fichier corpus_data.csv est crée avec {} auteurs et {} documents.\"\n",
    "    print(message.format(len(authors), len(collection)))\n",
    "\n",
    "# Créer les widgets pour le formulaire\n",
    "subreddit_widget = widgets.Text(value='corona', description='Subreddit:')\n",
    "reddit_limit_widget = widgets.IntSlider(value=100, min=1, max=500, step=1, description='Reddit Limit:')\n",
    "arxiv_query_terms_widget = widgets.Text(value='corona', description='ArXiv Query Terms:')\n",
    "arxiv_max_results_widget = widgets.IntSlider(value=100, min=1, max=500, step=1, description='ArXiv Max Results:')\n",
    "\n",
    "# Créer le bouton pour déclencher la collecte de données\n",
    "button = widgets.Button(description='Collect and Display Data')\n",
    "\n",
    "# Définir la fonction à exécuter lors du clic sur le bouton\n",
    "def on_button_click(b):\n",
    "    collect_data_and_display(subreddit_widget.value, reddit_limit_widget.value,\n",
    "                              arxiv_query_terms_widget.value.split(','), arxiv_max_results_widget.value)\n",
    "\n",
    "# Associer la fonction au clic sur le bouton\n",
    "button.on_click(on_button_click)\n",
    "\n",
    "# Afficher les widgets\n",
    "display(subreddit_widget, reddit_limit_widget, arxiv_query_terms_widget, arxiv_max_results_widget, button)\n"
   ]
  },
  {
   "cell_type": "code",
   "execution_count": 2,
   "id": "53f50088",
   "metadata": {},
   "outputs": [
    {
     "name": "stdout",
     "output_type": "stream",
     "text": [
      "####################################\n",
      "####################################\n",
      "####################################\n",
      "####################################\n",
      "####################################\n",
      "####################################\n",
      "####################################\n",
      "####################################\n",
      "####################################\n",
      "####################################\n",
      "####################################\n",
      "####################################\n",
      "Tableau de fréquences :\n",
      "          Mot  Fréquence  Document Frequency\n",
      "0         hey          3                   9\n",
      "1         all          9                  21\n",
      "2         yes          1                   1\n",
      "3         the        117                  50\n",
      "4        name          3                   3\n",
      "...       ...        ...                 ...\n",
      "1156   valley          1                   1\n",
      "1157      end          1                  14\n",
      "1158   kinnda          1                   1\n",
      "1159  excited          1                   1\n",
      "1160  nervous          1                   1\n",
      "\n",
      "[1161 rows x 3 columns]\n"
     ]
    }
   ],
   "source": [
    "from Corpus import Corpus\n",
    "\n",
    "# Charger le DataFrame à partir du fichier CSV\n",
    "loaded_corpus_df = pd.read_csv('corpus_data.csv', sep='\\t')\n",
    "\n",
    "# Convertir le DataFrame en Corpus\n",
    "loaded_corpus = Corpus(\"Mon corpus chargé\")\n",
    "\n",
    "for index, row in loaded_corpus_df.iterrows():\n",
    "    doc = Document(\n",
    "        titre=row['Titre'],\n",
    "        auteur=row['Auteur'],\n",
    "        date=row['Date'],\n",
    "        url=row['URL'],\n",
    "        texte=row['Texte']\n",
    "    )\n",
    "    loaded_corpus.add(doc)  \n",
    "\n",
    "# Afficher le Corpus chargé\n",
    "#print(loaded_corpus)\n",
    "print('####################################')\n",
    "print('####################################')\n",
    "#loaded_corpus.show(tri=\"123\")\n",
    "print('####################################')\n",
    "print('####################################')\n",
    "#loaded_corpus.search(\"article\")\n",
    "print('####################################')\n",
    "print('####################################')\n",
    "#loaded_corpus.concorde(\"article\")\n",
    "print('####################################')\n",
    "print('####################################')\n",
    "#loaded_corpus.stats(top_n_words=15)\n",
    "print('####################################')\n",
    "print('####################################')\n",
    "#loaded_corpus.afficher_vocabulaire()\n",
    "print('####################################')\n",
    "print('####################################')\n",
    "loaded_corpus.afficher_tableau_frequences()"
   ]
  },
  {
   "cell_type": "code",
   "execution_count": null,
   "id": "8e553801",
   "metadata": {},
   "outputs": [],
   "source": []
  }
 ],
 "metadata": {
  "kernelspec": {
   "display_name": "Python 3 (ipykernel)",
   "language": "python",
   "name": "python3"
  },
  "language_info": {
   "codemirror_mode": {
    "name": "ipython",
    "version": 3
   },
   "file_extension": ".py",
   "mimetype": "text/x-python",
   "name": "python",
   "nbconvert_exporter": "python",
   "pygments_lexer": "ipython3",
   "version": "3.11.5"
  }
 },
 "nbformat": 4,
 "nbformat_minor": 5
}
